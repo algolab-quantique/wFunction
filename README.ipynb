{
 "cells": [
  {
   "cell_type": "markdown",
   "metadata": {},
   "source": [
    "\n",
    "# wFunction\n",
    "\n",
    "Ce petit module python a pour objectif de créer un circuit quantique préparant les qubits dans une distribution de votre choix.\n",
    "\n",
    "Pour ce faire, une transformation linéaire est appliquée au domaine de la distribution pour l'amener dans le domaine binaire $[0,2^n-1]$ ou $n$ est le nombre de qubits utilisé. La fonction d'onde préparée est donc $\\sum_i f(i)|i \\rangle$ ou $i$ est l'état des qubits lorsque lue en binaire et $f(i)$ est la distribution cible sur le domaine binaire évalué à $i$.\n",
    "\n",
    " Les fonctions du module normalisent automatiquement la distribution.\n",
    "\n",
    "## Installation\n",
    "\n",
    "### Quimb\n",
    "\n",
    "wFunction dépend de la bibliothèque de manipulation de tenseur Quimb.\n",
    "Malheureusement, il est possible que la version de quimb disponible sur pypa ne soit pas suffisamment à jour. Si c'est le cas, utilisez la commande suivante: \n",
    "    \n",
    "    pip install git+https://github.com/jcmgray/quimb.git\n",
    "\n",
    "### Conda    \n",
    "\n",
    "L'installation avec conda n'est pas testée. Comme il s'agit d'un projet purement en python, il devrait fonctionner sans problème.\n",
    "\n",
    "### Installation\n",
    "\n",
    "Télécharger le dépôt git, puis à partir du dossier du projet, saisissez la commande\n",
    "    \n",
    "    pip install ./\n",
    "    \n",
    "\n",
    "\n",
    "## Utilisation\n",
    "\n",
    "Dans la cellule suivante, on importe wFunction, qiskit et numpy et on définit la distribution. Noté que la distribution dans cet exemple à deux paramètres: mu et sigma. Nous allons devoir les fixer avant de donner cette fonction à wFunction."
   ]
  },
  {
   "cell_type": "code",
   "execution_count": null,
   "metadata": {},
   "outputs": [],
   "source": [
    "%%capture\n",
    "import wFunction as wf\n",
    "import qiskit as qs\n",
    "import numpy as np\n",
    "from scipy.stats import lognorm as scplog\n",
    "def lognorm(x,mu,sigma):\n",
    "    return scplog.pdf(np.exp(-mu)*x,sigma )"
   ]
  },
  {
   "cell_type": "markdown",
   "metadata": {},
   "source": [
    "Une fois la fonction définie, on crée un registre quantique avec le nombre de qubits désiré, et on appelle *Generate_circuit*.\n",
    "Noté qu'on fixe les paramètres de la distribution en la plaçant dans un lambda.\n",
    "Les arguments sont: la distribution, la précision de la discrétisation intermédiaire de la fonction, la fidélité du circuit, le nombre de qubits, le domaine de la fonction, le registre quantique du circuit, le nombre de couches du circuit et, finalement, le nom du circuit."
   ]
  },
  {
   "cell_type": "code",
   "execution_count": null,
   "metadata": {},
   "outputs": [],
   "source": [
    "%%capture\n",
    "threeqb = qs.QuantumRegister(3)\n",
    "circ = wf.gen_circuit(lambda x:lognorm(x,1,1),1e-5,Gate_precision=1e-12,nqbit=3,domain=[0,7],register=threeqb,Nlayer=1,name=\"lognormal\")\n",
    "\n"
   ]
  },
  {
   "cell_type": "code",
   "execution_count": null,
   "metadata": {},
   "outputs": [],
   "source": [
    "circ.draw('mpl')"
   ]
  },
  {
   "cell_type": "markdown",
   "metadata": {},
   "source": [
    "Le circuit généré est en *big-endian*, la convention opposée à celle de qiskit.\n",
    "On peut passer en *little-endian* (et vice-versa) avec la méthode *reverse_bits*"
   ]
  },
  {
   "cell_type": "code",
   "execution_count": null,
   "metadata": {},
   "outputs": [],
   "source": [
    "circ = circ.reverse_bits()\n",
    "circ.draw('mpl')"
   ]
  },
  {
   "cell_type": "markdown",
   "metadata": {},
   "source": [
    "Finalement, on peut observer le résultat d'une simulation."
   ]
  },
  {
   "cell_type": "code",
   "execution_count": null,
   "metadata": {},
   "outputs": [],
   "source": [
    "from qiskit import transpile\n",
    "from qiskit.providers.aer import QasmSimulator\n",
    "from qiskit.visualization import plot_histogram\n",
    "\n",
    "circ.measure_all()\n",
    "simulator = QasmSimulator()\n",
    "compiled_circuit = transpile(circ, simulator)\n",
    "shots = 2000\n",
    "job = simulator.run(compiled_circuit, shots=shots)\n",
    "result = job.result()\n",
    "counts = result.get_counts(compiled_circuit)\n",
    "plot_histogram(counts)\n"
   ]
  },
  {
   "cell_type": "markdown",
   "metadata": {},
   "source": [
    "Si l’on désire plutôt que les probabilités des états correspondent à une distribution particulière, il faut fournir la racine carrée de la distribution."
   ]
  },
  {
   "cell_type": "code",
   "execution_count": null,
   "metadata": {},
   "outputs": [],
   "source": [
    "threeqb = qs.QuantumRegister(3)\n",
    "circ = wf.gen_circuit(lambda x:np.sqrt(lognorm(x,1,1)),1e-5,Gate_precision=1e-12,nqbit=3,domain=[0,7],register=threeqb,Nlayer=1,name=\"lognormal\")\n",
    "circ = circ.reverse_bits()\n",
    "circ.measure_all()\n",
    "simulator = QasmSimulator()\n",
    "compiled_circuit = transpile(circ, simulator)\n",
    "shots = 2000\n",
    "job = simulator.run(compiled_circuit, shots=shots)\n",
    "result = job.result()\n",
    "counts = result.get_counts(compiled_circuit)\n",
    "plot_histogram(counts)"
   ]
  },
  {
   "cell_type": "code",
   "execution_count": null,
   "metadata": {},
   "outputs": [],
   "source": []
  }
 ],
 "metadata": {
  "interpreter": {
   "hash": "b0fa6594d8f4cbf19f97940f81e996739fb7646882a419484c72d19e05852a7e"
  },
  "kernelspec": {
   "display_name": "Python 3.9.12 64-bit",
   "language": "python",
   "name": "python3"
  },
  "language_info": {
   "codemirror_mode": {
    "name": "ipython",
    "version": 3
   },
   "file_extension": ".py",
   "mimetype": "text/x-python",
   "name": "python",
   "nbconvert_exporter": "python",
   "pygments_lexer": "ipython3",
   "version": "3.9.12"
  },
  "orig_nbformat": 4
 },
 "nbformat": 4,
 "nbformat_minor": 2
}
